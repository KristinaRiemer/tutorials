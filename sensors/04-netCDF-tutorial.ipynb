{
 "cells": [
  {
   "cell_type": "code",
   "execution_count": 6,
   "metadata": {
    "collapsed": true
   },
   "outputs": [],
   "source": [
    "# Dependencies\n",
    "# Python 2.X\n",
    "\n",
    "# import the netCDF4 library for Python (doesn't support Python 3.X so far)\n",
    "import netCDF4\n",
    "\n",
    "# import numpy (for numerical calculation)\n",
    "import numpy as np\n",
    "\n",
    "# import matplotlib (for generating graphs)\n",
    "from matplotlib import pyplot as plotter\n",
    "\n",
    "# import os to get username from the system for this demo  \n",
    "import os"
   ]
  },
  {
   "cell_type": "markdown",
   "metadata": {},
   "source": [
    "## Find and open the netCDF file"
   ]
  },
  {
   "cell_type": "code",
   "execution_count": 7,
   "metadata": {
    "collapsed": false
   },
   "outputs": [
    {
     "name": "stdout",
     "output_type": "stream",
     "text": [
      "<type 'netCDF4._netCDF4.Dataset'>\n",
      "root group (NETCDF4 data model, file format HDF5):\n",
      "    title: None given (supply with --trr ttl=\"Title\")\n",
      "    created_by: yanliu\n",
      "    Conventions: CF-1.5\n",
      "    Project: TERRAREF\n",
      "    terraref_script: hyperspectral_workflow.sh\n",
      "    terraref_hostname: cg-cmp12\n",
      "    terraref_version: 4.6.2-beta03\n",
      "    history: Wed Feb  8 05:56:59 2017: ncks --deflate 9 /home/jiarunm/compression/have_a_try.nc final.nc\n",
      "Wed Feb  8 05:56:18 2017: ncks -O -d y,6.7,6.9 -d x,202.8,203.0 -d wavelength,0.4e-6,0.7e-6 /projects/arpae/terraref/sites/ua-mac/Level_1/hyperspectral/2016-09-30/2016-09-30__14-10-47-713/532ec234-3d73-4357-9043-627da6c34c34_.nc /home/jiarunm/compression/have_a_try.nc\n",
      "Thu Jan 26 08:07:58 2017: ncap2 -A --hdr_pad=10000 -s @drc_spt=\"/gpfs/largeblockFS/projects/arpae/terraref/shared/extractors/extractors-hyperspectral/hyperspectral\" -S /gpfs/largeblockFS/projects/arpae/terraref/shared/extractors/extractors-hyperspectral/hyperspectral/hyperspectral_calibration.nco /gpfs_scratch/arpae/imaging_spectrometer/terraref_tmp_att.nc.pid125798.fl00.tmp /gpfs_scratch/arpae/imaging_spectrometer/terraref_tmp_att.nc.pid125798.fl00.tmp\n",
      "Thu Jan 26 08:07:42 2017: ncks -A -C -v xps_img_wht,xps_img_drk /gpfs/largeblockFS/projects/arpae/terraref/shared/extractors/extractors-hyperspectral/hyperspectral/calibration_vnir_55ms.nc /gpfs_scratch/arpae/imaging_spectrometer/terraref_tmp_att.nc.pid125798.fl00.tmp\n",
      "Thu Jan 26 08:07:27 2017: ncks -A /gpfs_scratch/arpae/imaging_spectrometer/terraref_tmp_jsn.nc.pid125798.fl00.tmp /gpfs_scratch/arpae/imaging_spectrometer/terraref_tmp_att.nc.pid125798.fl00.tmp\n",
      "Thu Jan 26 08:07:11 2017: python /projects/arpae/terraref/sites/ua-mac/raw_data/VNIR/2016-09-30/2016-09-30__14-10-47-713/532ec234-3d73-4357-9043-627da6c34c34_raw /gpfs_scratch/arpae/imaging_spectrometer/terraref_tmp_jsn.nc.pid125798.fl00.tmp\n",
      "    NCO: \"4.6.2-beta03\"\n",
      "    history_of_appended_files: Thu Jan 26 08:07:58 2017: Appended file /gpfs_scratch/arpae/imaging_spectrometer/terraref_tmp_att.nc.pid125798.fl00.tmp had following \"history\" attribute:\n",
      "Thu Jan 26 08:07:42 2017: ncks -A -C -v xps_img_wht,xps_img_drk /gpfs/largeblockFS/projects/arpae/terraref/shared/extractors/extractors-hyperspectral/hyperspectral/calibration_vnir_55ms.nc /gpfs_scratch/arpae/imaging_spectrometer/terraref_tmp_att.nc.pid125798.fl00.tmp\n",
      "Thu Jan 26 08:07:27 2017: ncks -A /gpfs_scratch/arpae/imaging_spectrometer/terraref_tmp_jsn.nc.pid125798.fl00.tmp /gpfs_scratch/arpae/imaging_spectrometer/terraref_tmp_att.nc.pid125798.fl00.tmp\n",
      "Thu Jan 26 08:07:11 2017: python /projects/arpae/terraref/sites/ua-mac/raw_data/VNIR/2016-09-30/2016-09-30__14-10-47-713/532ec234-3d73-4357-9043-627da6c34c34_raw /gpfs_scratch/arpae/imaging_spectrometer/terraref_tmp_jsn.nc.pid125798.fl00.tmp\n",
      "Thu Jan 26 08:07:42 2017: Appended file /gpfs/largeblockFS/projects/arpae/terraref/shared/extractors/extractors-hyperspectral/hyperspectral/calibration_vnir_55ms.nc had following \"history\" attribute:\n",
      "Mon Nov 14 08:42:30 2016: ncks -A -v xps_img_drk /Users/zender/data/terraref/clb/vnir_drk_avg_55ms.nc /Users/zender/data/terraref/clb/calibration_vnir_55ms.nc\n",
      "Mon Nov 14 08:42:30 2016: ncks -O -v xps_img_wht /Users/zender/data/terraref/clb/vnir_wht_avg_55ms.nc /Users/zender/data/terraref/clb/calibration_vnir_55ms.nc\n",
      "Mon Nov 14 08:26:27 2016: ncwa -O -a x,y /Users/zender/Downloads/VNIR_SpectralonRef_SinglePixel/2016_10_21_13_18_52_55ms/vnir_wht_cut_55ms.nc /Users/zender/Downloads/VNIR_SpectralonRef_SinglePixel/2016_10_21_13_18_52_55ms/vnir_wht_avg_55ms.nc\n",
      "Mon Nov 14 08:26:27 2016: ncks -O -F -d x,600,1000 -d y,35,90 /Users/zender/Downloads/VNIR_SpectralonRef_SinglePixel/2016_10_21_13_18_52_55ms/vnir_wht_img_55ms.nc /Users/zender/Downloads/VNIR_SpectralonRef_SinglePixel/2016_10_21_13_18_52_55ms/vnir_wht_cut_55ms.nc\n",
      "ncks -O --trr var_nm=xps_img_wht --trr_wxy=955,1600,269 --trr typ_in=NC_USHORT --trr typ_out=NC_USHORT --trr ntl_in=bil --trr ntl_out=bsq --trr ttl=Spectralon target with nominal visible reflectance = 0.95, as exposed to VNIR full image 1600 pixel and 268-298 lines on 20161021 ~13:15 local time in 2016_10_21_13_18_52_55ms. Spectralon is located in lines ~35-90 and samples (pixels) 600-1000. --trr_in=/Users/zender/Downloads/VNIR_SpectralonRef_SinglePixel/2016_10_21_13_18_52_55ms/raw /Users/zender/terraref/computing-pipeline/scripts/hyperspectral/hyperspectral_dummy.nc /Users/zender/Downloads/VNIR_SpectralonRef_SinglePixel/2016_10_21_13_18_52_55ms/vnir_wht_img_55ms.nc\n",
      "Thu Jan 26 08:07:27 2017: Appended file /gpfs_scratch/arpae/imaging_spectrometer/terraref_tmp_jsn.nc.pid125798.fl00.tmp had following \"history\" attribute:\n",
      "Thu Jan 26 08:07:11 2017: python /projects/arpae/terraref/sites/ua-mac/raw_data/VNIR/2016-09-30/2016-09-30__14-10-47-713/532ec234-3d73-4357-9043-627da6c34c34_raw /gpfs_scratch/arpae/imaging_spectrometer/terraref_tmp_jsn.nc.pid125798.fl00.tmp\n",
      "\n",
      "    nco_openmp_thread_number: 1\n",
      "    camera: VNIR Camera\n",
      "    drc_spt: /gpfs/largeblockFS/projects/arpae/terraref/shared/extractors/extractors-hyperspectral/hyperspectral\n",
      "    dimensions(sizes): wavelength(469), time(4621), y(203), x(195), wvl_clb(2201)\n",
      "    variables(dimensions): <type 'str'> \u001b[4mGoogle_Map_View\u001b[0m(), float32 \u001b[4mfactory_calibrated_reflectance_interpolated\u001b[0m(wavelength), float64 \u001b[4mframetime\u001b[0m(time), float64 \u001b[4mlat_img_ne\u001b[0m(), float64 \u001b[4mlat_img_nw\u001b[0m(), float64 \u001b[4mlat_img_se\u001b[0m(), float64 \u001b[4mlat_img_sw\u001b[0m(), float64 \u001b[4mlat_reference_point\u001b[0m(), float64 \u001b[4mlon_img_ne\u001b[0m(), float64 \u001b[4mlon_img_nw\u001b[0m(), float64 \u001b[4mlon_img_se\u001b[0m(), float64 \u001b[4mlon_img_sw\u001b[0m(), float64 \u001b[4mlon_reference_point\u001b[0m(), float32 \u001b[4mrfl_img\u001b[0m(wavelength,y,x), float32 \u001b[4mrfl_img_max\u001b[0m(wavelength), float32 \u001b[4mrfl_img_min\u001b[0m(wavelength), float32 \u001b[4mrfl_rfr_fct\u001b[0m(wavelength), float64 \u001b[4mwavelength\u001b[0m(wavelength), float32 \u001b[4mwvl_clb\u001b[0m(wvl_clb), float64 \u001b[4mx\u001b[0m(x), float64 \u001b[4mx_img_ne\u001b[0m(), float64 \u001b[4mx_img_nw\u001b[0m(), float64 \u001b[4mx_img_se\u001b[0m(), float64 \u001b[4mx_img_sw\u001b[0m(), float64 \u001b[4mx_pxl_sz\u001b[0m(), float64 \u001b[4mx_reference_point\u001b[0m(), uint16 \u001b[4mxps_img\u001b[0m(wavelength,y,x), uint16 \u001b[4mxps_img_drk\u001b[0m(wavelength), uint16 \u001b[4mxps_img_max\u001b[0m(wavelength), uint16 \u001b[4mxps_img_min\u001b[0m(wavelength), uint16 \u001b[4mxps_img_wht\u001b[0m(wavelength), float64 \u001b[4my\u001b[0m(y), float64 \u001b[4my_img_ne\u001b[0m(), float64 \u001b[4my_img_nw\u001b[0m(), float64 \u001b[4my_img_se\u001b[0m(), float64 \u001b[4my_img_sw\u001b[0m(), float64 \u001b[4my_pxl_sz\u001b[0m(), float64 \u001b[4my_reference_point\u001b[0m()\n",
      "    groups: gantry_system_fixed_metadata, gantry_system_variable_metadata, header_info, sensor_fixed_metadata, sensor_variable_metadata, user_given_metadata\n",
      "\n"
     ]
    }
   ],
   "source": [
    "# Open the file in the reading mode\n",
    "user_name = os.environ['NAMESPACE']\n",
    "file_directory = '/home/{}/data/vnir_tutorial.nc'.format(user_name)\n",
    "file_handler   = netCDF4.Dataset(file_directory, \"r\")\n",
    "\n",
    "# See the properties of the file\n",
    "print file_handler"
   ]
  },
  {
   "cell_type": "markdown",
   "metadata": {},
   "source": [
    "## Structure of a netCDF file\n",
    "\n",
    "### Dimensions, Groups and Values \n",
    "\n",
    "- The output above is a little bit messy, lets look at the values that we are care about. In the Hyperspectral Workflow, some of the variables are saved directly to the file root, while others are in more structured groups. Most of the numerical variables have dimensions, which give them real-world meanings.\n",
    "\n",
    "- netCDF4 Dimensions, Groups and Values are saved together in OrderDicts, which are a high-performance container implemented by the Python Standard Library. Users can use the similar methods and syntaxes to access the values (and value pairs), e.g., items(), keys(), values(), etc.\n",
    "\n",
    "- Usually the keys are the name of dimensions, groups an values, and the values are the \\<value objects>.\n"
   ]
  },
  {
   "cell_type": "code",
   "execution_count": 8,
   "metadata": {
    "collapsed": false,
    "scrolled": true
   },
   "outputs": [
    {
     "name": "stdout",
     "output_type": "stream",
     "text": [
      "wavelength = 469 \n",
      "time       = 4621\n",
      "y          = 203 \n",
      "x          = 195 \n",
      "wvl_clb    = 2201\n"
     ]
    }
   ],
   "source": [
    "# Shows the dimensions in the Hyperspectral outputs\n",
    "\n",
    "for name, value in file_handler.dimensions.items():\n",
    "    print \"{:10s} = {:<4d}\".format(name, value.size)"
   ]
  },
  {
   "cell_type": "code",
   "execution_count": 7,
   "metadata": {
    "collapsed": false
   },
   "outputs": [
    {
     "name": "stdout",
     "output_type": "stream",
     "text": [
      "variable name: Google_Map_View\n",
      "                --> usage          :copy and paste to your web browser\n",
      "                --> reference_point:Southeast corner of field\n",
      "\n",
      "variable name: factory_calibrated_reflectance_interpolated\n",
      "                --> long_name      :Hyperspectral Wavelength\n",
      "                --> standard_name  :radiation_wavelength\n",
      "                --> units          :meter\n",
      "\n",
      "variable name: frametime\n",
      "                --> units          :days since 1970-01-01 00:00:00\n",
      "                --> calender       :gregorian\n",
      "                --> notes          :Each time of the scanline of the y taken\n",
      "\n",
      "variable name: lat_img_ne\n",
      "                --> units          :degrees_north\n",
      "                --> long_name      :Latitude of northeast corner of image\n",
      "\n",
      "variable name: lat_img_nw\n",
      "                --> units          :degrees_north\n",
      "                --> long_name      :Latitude of northwest corner of image\n",
      "\n"
     ]
    }
   ],
   "source": [
    "# Shows the variables and their attributes in the Hyperspectral outputs ROOT LEVEL\n",
    "# We here only print out the first five variables\n",
    "\n",
    "for name, value in file_handler.variables.items()[:5]:\n",
    "    print \"variable name:\", name # <-- Attribute Names\n",
    "    \n",
    "    for attributes in value.__dict__.keys():\n",
    "        print \" \"*16 + \"--> \" + \"{:15s}:{}\".format(attributes,value.__dict__[attributes]) # <-- Access the attribute values\n",
    "    print"
   ]
  },
  {
   "cell_type": "code",
   "execution_count": 9,
   "metadata": {
    "collapsed": false
   },
   "outputs": [
    {
     "name": "stdout",
     "output_type": "stream",
     "text": [
      "gantry_system_fixed_metadata\n",
      "gantry_system_variable_metadata\n",
      "header_info\n",
      "sensor_fixed_metadata\n",
      "sensor_variable_metadata\n",
      "user_given_metadata\n"
     ]
    }
   ],
   "source": [
    "# Show the Groups in the ROOT LEVEL\n",
    "\n",
    "for name in file_handler.groups:\n",
    "    print name"
   ]
  },
  {
   "cell_type": "markdown",
   "metadata": {},
   "source": [
    "## Read the values and attributes of a Group/Variable-in-a-Group\n",
    "\n",
    "- Python netCDF4 library provides serveral ways to let users get access to the attributs and values of them, as litsed below"
   ]
  },
  {
   "cell_type": "code",
   "execution_count": null,
   "metadata": {
    "collapsed": true
   },
   "outputs": [],
   "source": [
    "# Groups can have attributes, here is how to get the attribute value of a group\n",
    "\n",
    "# E.g., The group \"gantry_system_fixed_metadata\" has an attribute called \"project_responsible\"\n",
    "\n",
    "gantry_system_fixed_metadata = file_handler.groups['gantry_system_fixed_metadata']\n",
    "print gantry_system_fixed_metadata.__dict__[u'project_responsible']"
   ]
  },
  {
   "cell_type": "code",
   "execution_count": null,
   "metadata": {
    "collapsed": true
   },
   "outputs": [],
   "source": [
    "# Groups is also a container of variables, here is how to get to those variables\n",
    "\n",
    "# E.g., The group \"gantry_system_fixed_metadata\" has a variable called \"LemnaTec_ProjNo\"\n",
    "# Note that the value of a variable can be accessed by indexing with Ellipsis (\"...\")\n",
    "# Ellipsis is a legal Python operator (and is only commonly used for NumPy and scientific computing)\n",
    "\n",
    "print gantry_system_fixed_metadata.variables[\"LemnaTec_ProjNo\"][...]"
   ]
  },
  {
   "cell_type": "code",
   "execution_count": null,
   "metadata": {
    "collapsed": true
   },
   "outputs": [],
   "source": [
    "# A variable can also have attributes ...\n",
    "# For example, \"LemnaTec_ProjNo\" has an attribute called \"long name\"\n",
    "\n",
    "# Attribute \"long name\" is pretty common in Hyperspectral Workflow outputs\n",
    "\n",
    "print gantry_system_fixed_metadata.variables[\"LemnaTec_ProjNo\"].long_name"
   ]
  }
 ],
 "metadata": {
  "kernelspec": {
   "display_name": "Python 2",
   "language": "python",
   "name": "python2"
  },
  "language_info": {
   "codemirror_mode": {
    "name": "ipython",
    "version": 2
   },
   "file_extension": ".py",
   "mimetype": "text/x-python",
   "name": "python",
   "nbconvert_exporter": "python",
   "pygments_lexer": "ipython2",
   "version": "2.7.11"
  }
 },
 "nbformat": 4,
 "nbformat_minor": 1
}
